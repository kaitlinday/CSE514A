{
 "cells": [
  {
   "cell_type": "markdown",
   "id": "d5649e66",
   "metadata": {},
   "source": [
    "# 1. PACKAGE IMPORTS"
   ]
  },
  {
   "cell_type": "code",
   "execution_count": 1,
   "id": "bedc9679",
   "metadata": {},
   "outputs": [],
   "source": [
    "import numpy as np\n",
    "import pandas as pd\n",
    "import xlrd\n",
    "import matplotlib.pyplot as plt\n",
    "from sklearn.model_selection import train_test_split\n",
    "from sklearn.linear_model import LinearRegression\n",
    "from sklearn.preprocessing import StandardScaler"
   ]
  },
  {
   "cell_type": "markdown",
   "id": "9b9340a7",
   "metadata": {},
   "source": [
    "# 2. DATA IMPORT & PRE PROCESSING"
   ]
  },
  {
   "cell_type": "code",
   "execution_count": 98,
   "id": "654bed21",
   "metadata": {},
   "outputs": [
    {
     "name": "stdout",
     "output_type": "stream",
     "text": [
      "Number of points:  20000\n",
      "Number of columns:  16\n"
     ]
    },
    {
     "data": {
      "text/html": [
       "<div>\n",
       "<style scoped>\n",
       "    .dataframe tbody tr th:only-of-type {\n",
       "        vertical-align: middle;\n",
       "    }\n",
       "\n",
       "    .dataframe tbody tr th {\n",
       "        vertical-align: top;\n",
       "    }\n",
       "\n",
       "    .dataframe thead th {\n",
       "        text-align: right;\n",
       "    }\n",
       "</style>\n",
       "<table border=\"1\" class=\"dataframe\">\n",
       "  <thead>\n",
       "    <tr style=\"text-align: right;\">\n",
       "      <th></th>\n",
       "      <th>0</th>\n",
       "    </tr>\n",
       "  </thead>\n",
       "  <tbody>\n",
       "    <tr>\n",
       "      <th>0</th>\n",
       "      <td>T,2,8,3,5,1,8,13,0,6,6,10,8,0,8,0,8</td>\n",
       "    </tr>\n",
       "    <tr>\n",
       "      <th>1</th>\n",
       "      <td>I,5,12,3,7,2,10,5,5,4,13,3,9,2,8,4,10</td>\n",
       "    </tr>\n",
       "    <tr>\n",
       "      <th>2</th>\n",
       "      <td>D,4,11,6,8,6,10,6,2,6,10,3,7,3,7,3,9</td>\n",
       "    </tr>\n",
       "    <tr>\n",
       "      <th>3</th>\n",
       "      <td>N,7,11,6,6,3,5,9,4,6,4,4,10,6,10,2,8</td>\n",
       "    </tr>\n",
       "    <tr>\n",
       "      <th>4</th>\n",
       "      <td>G,2,1,3,1,1,8,6,6,6,6,5,9,1,7,5,10</td>\n",
       "    </tr>\n",
       "  </tbody>\n",
       "</table>\n",
       "</div>"
      ],
      "text/plain": [
       "                                       0\n",
       "0    T,2,8,3,5,1,8,13,0,6,6,10,8,0,8,0,8\n",
       "1  I,5,12,3,7,2,10,5,5,4,13,3,9,2,8,4,10\n",
       "2   D,4,11,6,8,6,10,6,2,6,10,3,7,3,7,3,9\n",
       "3   N,7,11,6,6,3,5,9,4,6,4,4,10,6,10,2,8\n",
       "4     G,2,1,3,1,1,8,6,6,6,6,5,9,1,7,5,10"
      ]
     },
     "execution_count": 98,
     "metadata": {},
     "output_type": "execute_result"
    }
   ],
   "source": [
    "import pandas as pd\n",
    "letters = pd.read_fwf(\"/Users/kaitlinday/OneDrive - Washington University \\\n",
    "in St. Louis/CSE 514A/CSE514A/letter-recognition.data\", header = None)\n",
    "n = letters.shape[0]\n",
    "c = 16\n",
    "print(\"Number of points: \", n)\n",
    "print(\"Number of columns: \", c)\n",
    "letters.head()"
   ]
  },
  {
   "cell_type": "code",
   "execution_count": 102,
   "id": "4f661a20",
   "metadata": {},
   "outputs": [],
   "source": [
    "def separateLetters(letters, L1, L2):\n",
    "    data = []\n",
    "    letter = []\n",
    "    not_data = []\n",
    "    not_letter = []\n",
    "    for i in range(n):\n",
    "        if(letters.iloc[i][0][0] == L1 or letters.iloc[i][0][0] == L2):\n",
    "            data.append(letters.iloc[i][0][2:])\n",
    "            letter.append(letters.iloc[i][0][0])\n",
    "        else:\n",
    "            not_data.append(letters.iloc[i][0][2:])\n",
    "            not_letter.append(letters.iloc[i][0][0])\n",
    "    return data, letter, not_data, not_letter"
   ]
  },
  {
   "cell_type": "markdown",
   "id": "97013e06",
   "metadata": {},
   "source": [
    "## A. Separate & Split H & K"
   ]
  },
  {
   "cell_type": "code",
   "execution_count": 106,
   "id": "3334d6bd",
   "metadata": {},
   "outputs": [],
   "source": [
    "hk_data, hk_letter, not_hk_data, not_hk_letter = separateLetters(letters, 'H', 'K')\n",
    "\n",
    "# split h & k sets\n",
    "hkX_train, hkX_test, hkY_train, hkY_test = train_test_split(hk_data, hk_letter, test_size=0.10, random_state=10)\n",
    "\n",
    "# split remaining letters\n",
    "not_hkX_train, not_hkX_test, not_hkY_train, not_hkY_test = train_test_split(not_hk_data, not_hk_letter, test_size=0.10, random_state=10)\n"
   ]
  },
  {
   "cell_type": "markdown",
   "id": "21d88a0f",
   "metadata": {},
   "source": [
    "## B. Separate & Split M & Y"
   ]
  },
  {
   "cell_type": "code",
   "execution_count": 108,
   "id": "2d3bbf79",
   "metadata": {},
   "outputs": [],
   "source": [
    "my_data, my_letter, not_my_data, not_my_letter = separateLetters(letters, 'M', 'Y')\n",
    "\n",
    "# split m & j sets\n",
    "myX_train, myX_test, myY_train, myY_test = train_test_split(my_data, my_letter, test_size=0.10, random_state=10)\n",
    "\n",
    "# split remaining letters\n",
    "not_myX_train, not_myX_test, not_myY_train, not_myY_test = train_test_split(not_my_data, not_my_letter, test_size=0.10, random_state=10)\n"
   ]
  },
  {
   "cell_type": "markdown",
   "id": "25058ac0",
   "metadata": {},
   "source": [
    "## C. Separate & Split S & C"
   ]
  },
  {
   "cell_type": "code",
   "execution_count": 109,
   "id": "cb7c860a",
   "metadata": {},
   "outputs": [
    {
     "ename": "NameError",
     "evalue": "name 'sc_data' is not defined",
     "output_type": "error",
     "traceback": [
      "\u001b[0;31m---------------------------------------------------------------------------\u001b[0m",
      "\u001b[0;31mNameError\u001b[0m                                 Traceback (most recent call last)",
      "Input \u001b[0;32mIn [109]\u001b[0m, in \u001b[0;36m<cell line: 4>\u001b[0;34m()\u001b[0m\n\u001b[1;32m      1\u001b[0m my_data, my_letter, not_my_data, not_my_letter \u001b[38;5;241m=\u001b[39m separateLetters(letters, \u001b[38;5;124m'\u001b[39m\u001b[38;5;124mS\u001b[39m\u001b[38;5;124m'\u001b[39m, \u001b[38;5;124m'\u001b[39m\u001b[38;5;124mC\u001b[39m\u001b[38;5;124m'\u001b[39m)\n\u001b[1;32m      3\u001b[0m \u001b[38;5;66;03m# split h & k sets\u001b[39;00m\n\u001b[0;32m----> 4\u001b[0m scX_train, scX_test, scY_train, scY_test \u001b[38;5;241m=\u001b[39m train_test_split(\u001b[43msc_data\u001b[49m, sc_letter, test_size\u001b[38;5;241m=\u001b[39m\u001b[38;5;241m0.10\u001b[39m, random_state\u001b[38;5;241m=\u001b[39m\u001b[38;5;241m10\u001b[39m)\n\u001b[1;32m      6\u001b[0m \u001b[38;5;66;03m# split remaining letters\u001b[39;00m\n\u001b[1;32m      7\u001b[0m not_scX_train, not_scX_test, not_scY_train, not_scY_test \u001b[38;5;241m=\u001b[39m train_test_split(not_sc_data, not_sc_letter, test_size\u001b[38;5;241m=\u001b[39m\u001b[38;5;241m0.10\u001b[39m, random_state\u001b[38;5;241m=\u001b[39m\u001b[38;5;241m10\u001b[39m)\n",
      "\u001b[0;31mNameError\u001b[0m: name 'sc_data' is not defined"
     ]
    }
   ],
   "source": [
    "my_data, my_letter, not_my_data, not_my_letter = separateLetters(letters, 'S', 'C')\n",
    "\n",
    "# split h & k sets\n",
    "scX_train, scX_test, scY_train, scY_test = train_test_split(sc_data, sc_letter, test_size=0.10, random_state=10)\n",
    "\n",
    "# split remaining letters\n",
    "not_scX_train, not_scX_test, not_scY_train, not_scY_test = train_test_split(not_sc_data, not_sc_letter, test_size=0.10, random_state=10)\n"
   ]
  },
  {
   "cell_type": "code",
   "execution_count": null,
   "id": "eeecb202",
   "metadata": {},
   "outputs": [],
   "source": []
  }
 ],
 "metadata": {
  "kernelspec": {
   "display_name": "Python 3 (ipykernel)",
   "language": "python",
   "name": "python3"
  },
  "language_info": {
   "codemirror_mode": {
    "name": "ipython",
    "version": 3
   },
   "file_extension": ".py",
   "mimetype": "text/x-python",
   "name": "python",
   "nbconvert_exporter": "python",
   "pygments_lexer": "ipython3",
   "version": "3.9.5"
  }
 },
 "nbformat": 4,
 "nbformat_minor": 5
}
